{
 "cells": [
  {
   "cell_type": "code",
   "execution_count": 2,
   "metadata": {},
   "outputs": [],
   "source": [
    "import numpy as np\n",
    "import pandas as pd\n",
    "import matplotlib.pyplot as plt"
   ]
  },
  {
   "cell_type": "code",
   "execution_count": 3,
   "metadata": {},
   "outputs": [
    {
     "data": {
      "text/html": [
       "<div>\n",
       "<style scoped>\n",
       "    .dataframe tbody tr th:only-of-type {\n",
       "        vertical-align: middle;\n",
       "    }\n",
       "\n",
       "    .dataframe tbody tr th {\n",
       "        vertical-align: top;\n",
       "    }\n",
       "\n",
       "    .dataframe thead th {\n",
       "        text-align: right;\n",
       "    }\n",
       "</style>\n",
       "<table border=\"1\" class=\"dataframe\">\n",
       "  <thead>\n",
       "    <tr style=\"text-align: right;\">\n",
       "      <th></th>\n",
       "      <th>SNo</th>\n",
       "      <th>Date</th>\n",
       "      <th>StartupName</th>\n",
       "      <th>IndustryVertical</th>\n",
       "      <th>SubVertical</th>\n",
       "      <th>CityLocation</th>\n",
       "      <th>InvestorsName</th>\n",
       "      <th>InvestmentType</th>\n",
       "      <th>AmountInUSD</th>\n",
       "      <th>Remarks</th>\n",
       "    </tr>\n",
       "  </thead>\n",
       "  <tbody>\n",
       "    <tr>\n",
       "      <th>0</th>\n",
       "      <td>0</td>\n",
       "      <td>01/08/2017</td>\n",
       "      <td>TouchKin</td>\n",
       "      <td>Technology</td>\n",
       "      <td>Predictive Care Platform</td>\n",
       "      <td>Bangalore</td>\n",
       "      <td>Kae Capital</td>\n",
       "      <td>Private Equity</td>\n",
       "      <td>1,300,000</td>\n",
       "      <td>NaN</td>\n",
       "    </tr>\n",
       "    <tr>\n",
       "      <th>1</th>\n",
       "      <td>1</td>\n",
       "      <td>02/08/2017</td>\n",
       "      <td>Ethinos</td>\n",
       "      <td>Technology</td>\n",
       "      <td>Digital Marketing Agency</td>\n",
       "      <td>Mumbai</td>\n",
       "      <td>Triton Investment Advisors</td>\n",
       "      <td>Private Equity</td>\n",
       "      <td>NaN</td>\n",
       "      <td>NaN</td>\n",
       "    </tr>\n",
       "    <tr>\n",
       "      <th>2</th>\n",
       "      <td>2</td>\n",
       "      <td>02/08/2017</td>\n",
       "      <td>Leverage Edu</td>\n",
       "      <td>Consumer Internet</td>\n",
       "      <td>Online platform for Higher Education Services</td>\n",
       "      <td>New Delhi</td>\n",
       "      <td>Kashyap Deorah, Anand Sankeshwar, Deepak Jain,...</td>\n",
       "      <td>Seed Funding</td>\n",
       "      <td>NaN</td>\n",
       "      <td>NaN</td>\n",
       "    </tr>\n",
       "    <tr>\n",
       "      <th>3</th>\n",
       "      <td>3</td>\n",
       "      <td>02/08/2017</td>\n",
       "      <td>Zepo</td>\n",
       "      <td>Consumer Internet</td>\n",
       "      <td>DIY Ecommerce platform</td>\n",
       "      <td>Mumbai</td>\n",
       "      <td>Kunal Shah, LetsVenture, Anupam Mittal, Hetal ...</td>\n",
       "      <td>Seed Funding</td>\n",
       "      <td>500,000</td>\n",
       "      <td>NaN</td>\n",
       "    </tr>\n",
       "    <tr>\n",
       "      <th>4</th>\n",
       "      <td>4</td>\n",
       "      <td>02/08/2017</td>\n",
       "      <td>Click2Clinic</td>\n",
       "      <td>Consumer Internet</td>\n",
       "      <td>healthcare service aggregator</td>\n",
       "      <td>Hyderabad</td>\n",
       "      <td>Narottam Thudi, Shireesh Palle</td>\n",
       "      <td>Seed Funding</td>\n",
       "      <td>850,000</td>\n",
       "      <td>NaN</td>\n",
       "    </tr>\n",
       "    <tr>\n",
       "      <th>5</th>\n",
       "      <td>5</td>\n",
       "      <td>01/07/2017</td>\n",
       "      <td>Billion Loans</td>\n",
       "      <td>Consumer Internet</td>\n",
       "      <td>Peer to Peer Lending platform</td>\n",
       "      <td>Bangalore</td>\n",
       "      <td>Reliance Corporate Advisory Services Ltd</td>\n",
       "      <td>Seed Funding</td>\n",
       "      <td>1,000,000</td>\n",
       "      <td>NaN</td>\n",
       "    </tr>\n",
       "  </tbody>\n",
       "</table>\n",
       "</div>"
      ],
      "text/plain": [
       "   SNo        Date    StartupName   IndustryVertical  \\\n",
       "0    0  01/08/2017       TouchKin         Technology   \n",
       "1    1  02/08/2017        Ethinos         Technology   \n",
       "2    2  02/08/2017   Leverage Edu  Consumer Internet   \n",
       "3    3  02/08/2017           Zepo  Consumer Internet   \n",
       "4    4  02/08/2017   Click2Clinic  Consumer Internet   \n",
       "5    5  01/07/2017  Billion Loans  Consumer Internet   \n",
       "\n",
       "                                     SubVertical CityLocation  \\\n",
       "0                       Predictive Care Platform    Bangalore   \n",
       "1                       Digital Marketing Agency       Mumbai   \n",
       "2  Online platform for Higher Education Services    New Delhi   \n",
       "3                         DIY Ecommerce platform       Mumbai   \n",
       "4                  healthcare service aggregator    Hyderabad   \n",
       "5                  Peer to Peer Lending platform    Bangalore   \n",
       "\n",
       "                                       InvestorsName  InvestmentType  \\\n",
       "0                                        Kae Capital  Private Equity   \n",
       "1                         Triton Investment Advisors  Private Equity   \n",
       "2  Kashyap Deorah, Anand Sankeshwar, Deepak Jain,...    Seed Funding   \n",
       "3  Kunal Shah, LetsVenture, Anupam Mittal, Hetal ...    Seed Funding   \n",
       "4                     Narottam Thudi, Shireesh Palle    Seed Funding   \n",
       "5           Reliance Corporate Advisory Services Ltd    Seed Funding   \n",
       "\n",
       "  AmountInUSD Remarks  \n",
       "0   1,300,000     NaN  \n",
       "1         NaN     NaN  \n",
       "2         NaN     NaN  \n",
       "3     500,000     NaN  \n",
       "4     850,000     NaN  \n",
       "5   1,000,000     NaN  "
      ]
     },
     "execution_count": 3,
     "metadata": {},
     "output_type": "execute_result"
    }
   ],
   "source": [
    "data=pd.read_csv('startup_funding.csv')\n",
    "data.head(6)"
   ]
  },
  {
   "cell_type": "markdown",
   "metadata": {},
   "source": [
    "### 1\n",
    "Your Friend has developed the Product and he wants to establish the product startup and he is searching for a perfect location where getting the investment has a high chance. But due to its financial restriction, he can choose only between three locations -  Bangalore, Mumbai, and NCR. As a friend, you want to help your friend deciding the location. NCR include Gurgaon, Noida and New Delhi. Find the location where the most number of funding is done. That means, find the location where startups has received funding maximum number of times. Plot the bar graph between location and number of funding. Take city name \"Delhi\" as \"New Delhi\". Check the case-sensitiveness of cities also. That means, at some place instead of \"Bangalore\", \"bangalore\" is given. Take city name as \"Bangalore\". For few startups multiple locations are given, one Indian and one Foreign. Consider the startup if any one of the city lies in given locations."
   ]
  },
  {
   "cell_type": "code",
   "execution_count": 4,
   "metadata": {},
   "outputs": [
    {
     "data": {
      "image/png": "[encoded data removed]",
      "text/plain": [
       "<Figure size 432x288 with 1 Axes>"
      ]
     },
     "metadata": {
      "needs_background": "light"
     },
     "output_type": "display_data"
    }
   ],
   "source": [
    "# Q1\n",
    "\n",
    "df=data.copy()\n",
    "df=df[df.CityLocation.isna()==False]\n",
    "\n",
    "d={}\n",
    "\n",
    "for i in df.CityLocation:\n",
    "    i=i.lower()\n",
    "    if i=='delhi':i='new delhi'\n",
    "    if i=='seattle / bangalore' or i=='sfo / bangalore':i='bangalore'\n",
    "        \n",
    "    if i in d:\n",
    "        d[i]+=1\n",
    "    else:d[i]=1\n",
    "\n",
    "plt.bar(list(d.keys())[:5],list(d.values())[:5],color=['red'])\n",
    "plt.xlabel('Cities')\n",
    "plt.xticks(rotation=40)\n",
    "plt.ylabel('No of fundings')\n",
    "plt.title('Cities vs Fundings')\n",
    "plt.show()"
   ]
  },
  {
   "cell_type": "markdown",
   "metadata": {},
   "source": [
    "## 2\n",
    "Even after trying for so many times, your friend’s startup could not find the investment. So you decided to take this matter in your hand and try to find the list of investors who probably can invest in your friend’s startup. Your list will increase the chance of your friend startup getting some initial investment by contacting these investors. Find the top 5 investors who have invested maximum number of times (consider repeat investments in one company also). In a startup, multiple investors might have invested. So consider each investor for that startup. Ignore undisclosed investors."
   ]
  },
  {
   "cell_type": "code",
   "execution_count": 5,
   "metadata": {},
   "outputs": [
    {
     "name": "stdout",
     "output_type": "stream",
     "text": [
      " Sequoia Capital : 64\n",
      " Accel Partners : 53\n",
      " Kalaari Capital : 44\n",
      " SAIF Partners : 41\n",
      " Indian Angel Network : 40\n"
     ]
    },
    {
     "data": {
      "image/png": "[encoded data removed]",
      "text/plain": [
       "<Figure size 432x288 with 1 Axes>"
      ]
     },
     "metadata": {
      "needs_background": "light"
     },
     "output_type": "display_data"
    }
   ],
   "source": [
    "# Q2\n",
    "\n",
    "df=data.copy()\n",
    "\n",
    "from collections import Counter\n",
    "investor_name=df.InvestorsName\n",
    "\n",
    "\n",
    "df=df[(investor_name.isna()==False) & (investor_name!='Undisclosed investors') & (investor_name!='Undisclosed investor') & (investor_name!='Undisclosed Investors') & (investor_name!='Undisclosed Investor') & (investor_name!='undisclosed investors')]\n",
    "\n",
    "\n",
    "d={}\n",
    "for i in df.InvestorsName:\n",
    "    if ',' in i and i!='':\n",
    "        i=i.strip().split(',')\n",
    "        for  j in i:\n",
    "            if j!=\"\":\n",
    "                j=j.strip()\n",
    "                if j in d:d[j]+=1\n",
    "                else:d[j]=1\n",
    "    else:\n",
    "        if i!='':\n",
    "            i=i.strip()\n",
    "            if i in d:d[i]+=1\n",
    "            else:d[i]=1\n",
    "\n",
    "    \n",
    "d={i:j for i,j in sorted(d.items(),reverse=True,key=lambda x:x[1])}\n",
    "d\n",
    "\n",
    "c=0\n",
    "x=[]\n",
    "y=[]\n",
    "for i,j in d.items():\n",
    "    print(f\" {i} : {j}\")\n",
    "    x.append(i);y.append(j)\n",
    "    c+=1\n",
    "    if c==5:break\n",
    "        \n",
    "plt.plot(x,y,'o-')\n",
    "plt.xticks(rotation=40)\n",
    "plt.xlabel('Investors')\n",
    "plt.ylabel(\"No of times\")\n",
    "plt.title('Investors vs No of times')\n",
    "plt.show()\n"
   ]
  },
  {
   "cell_type": "markdown",
   "metadata": {},
   "source": [
    "### 3\n",
    "After re-analysing the dataset you found out that some investors have invested in the same startup at different number of funding rounds. So before finalising the previous list, you want to improvise it by finding the top 5 investors who have invested in different number of startups. This list will be more helpful than your previous list in finding the investment for your friend startup. Find the top 5 investors who have invested maximum number of times in different companies. That means, if one investor has invested multiple times in one startup, count one for that company. There are many errors in startup names. Ignore correcting all, just handle the important ones - Ola, Flipkart, Oyo and Paytm."
   ]
  },
  {
   "cell_type": "code",
   "execution_count": 45,
   "metadata": {},
   "outputs": [
    {
     "name": "stdout",
     "output_type": "stream",
     "text": [
      " Sequoia Capital : 48\n",
      " Accel Partners : 47\n",
      " Kalaari Capital : 41\n",
      " Indian Angel Network : 40\n",
      " Blume Ventures : 36\n"
     ]
    },
    {
     "data": {
      "image/png": "[encoded data removed]",
      "text/plain": [
       "<Figure size 432x288 with 1 Axes>"
      ]
     },
     "metadata": {},
     "output_type": "display_data"
    }
   ],
   "source": [
    "# Q3\n",
    "\n",
    "df=data.copy()\n",
    "\n",
    "investor_name=df.InvestorsName\n",
    "df=df[(investor_name.isna()==False) & (investor_name!='Undisclosed investors') & (investor_name!='Undisclosed investor') & (investor_name!='Undisclosed Investors') & (investor_name!='Undisclosed Investor') & (investor_name!='undisclosed investors')]\n",
    "companies=df.StartupName\n",
    "investors=df.InvestorsName\n",
    "\n",
    "\n",
    "df['StartupName'].replace(\"Ola Cabs\", \"Ola\", inplace = True)\n",
    "df['StartupName'].replace(\"OyoRooms\", \"Oyo\", inplace = True)\n",
    "df['StartupName'].replace(\"Oyorooms\", \"Oyo\", inplace = True)\n",
    "df['StartupName'].replace(\"OYO Rooms\", \"Oyo\", inplace = True)\n",
    "df['StartupName'].replace(\"Olacabs\", \"Ola\", inplace = True)\n",
    "df['StartupName'].replace(\"Flipkart.com\", \"Flipkart\", inplace = True)\n",
    "df['StartupName'].replace(\"Oyo Rooms\", \"Oyo\", inplace = True)\n",
    "df['StartupName'].replace(\"Paytm Marketplace\", \"Paytm\", inplace = True)\n",
    "\n",
    "d={}\n",
    "\n",
    "for i,k in zip(investors,companies): \n",
    "    \n",
    "    \n",
    "    if ',' in i and i!='':\n",
    "        i=i.strip().split(',')\n",
    "        for  j in i:\n",
    "            if j!=\"\":\n",
    "                j=j.strip()\n",
    "#                 print(j+\":\"+k)\n",
    "                if j in d:d[j].append(k)\n",
    "                else:d[j]=[k]\n",
    "                \n",
    "    else:\n",
    "        if i!='':\n",
    "            i=i.strip()\n",
    "#             print(i+\":\"+k)\n",
    "            if i in d:d[i].append(k)\n",
    "            else:d[i]=[k]\n",
    "\n",
    "\n",
    "for i,j in d.items():               \n",
    "    d[i]=len(set(j))\n",
    "\n",
    "investors={i:j for i,j in sorted(d.items(),reverse=True,key=lambda x:x[1])}\n",
    "\n",
    "c=0\n",
    "x=[]\n",
    "y=[]\n",
    "for i,j in investors.items():\n",
    "    print(f\" {i} : {j}\")\n",
    "    x.append(i);y.append(j)\n",
    "    c+=1\n",
    "    if c==5:break\n",
    "        \n",
    "plt.pie(y,labels=x,autopct='%.2f%%')\n",
    "# plt.xticks(rotation=40)\n",
    "plt.title('Investors vs No of times')\n",
    "plt.show()\n"
   ]
  },
  {
   "cell_type": "markdown",
   "metadata": {},
   "source": [
    "### 5\n",
    "Even after putting so much effort in finding the probable investors, it didn't turn out to be helpful for your friend. So you went to your investor friend to understand the situation better and your investor friend explained to you about the different Investment Types and their features. This new information will be helpful in finding the right investor. Since your friend startup is at an early stage startup, the best-suited investment type would be - Seed Funding and Crowdfunding. Find the top 5 investors who have invested in a different number of startups and their investment type is Crowdfunding or Seed Funding. Correct spelling of investment types are - \"Private Equity\", \"Seed Funding\", \"Debt Funding\", and \"Crowd Funding\". Keep an eye for any spelling mistake. You can find this by printing unique values from this column. There are many errors in startup names. Ignore correcting all, just handle the important ones - Ola, Flipkart, Oyo and Paytm."
   ]
  },
  {
   "cell_type": "code",
   "execution_count": 56,
   "metadata": {},
   "outputs": [
    {
     "name": "stdout",
     "output_type": "stream",
     "text": [
      " Indian Angel Network : 33\n",
      " Rajan Anandan : 23\n",
      " LetsVenture : 16\n",
      " Anupam Mittal : 16\n",
      " Kunal Shah : 14\n"
     ]
    },
    {
     "data": {
      "image/png": "[encoded data removed]",
      "text/plain": [
       "<Figure size 432x288 with 1 Axes>"
      ]
     },
     "metadata": {},
     "output_type": "display_data"
    }
   ],
   "source": [
    "df=data.copy()\n",
    "\n",
    "df=df[df.InvestmentType.isna()==False]    \n",
    "df['InvestmentType'].replace(\"Crowd funding\",\"Crowd Funding\",inplace=True)\n",
    "df['InvestmentType'].replace(\"SeedFunding\",\"Seed Funding\",inplace=True)\n",
    "\n",
    "investor_name=df.InvestorsName\n",
    "df=df[(investor_name.isna()==False) & (investor_name!='Undisclosed investors') & (investor_name!='Undisclosed investor') & (investor_name!='Undisclosed Investors') & (investor_name!='Undisclosed Investor') & (investor_name!='undisclosed investors')]\n",
    "\n",
    "df['StartupName'].replace(\"Ola Cabs\", \"Ola\", inplace = True)\n",
    "df['StartupName'].replace(\"OyoRooms\", \"Oyo\", inplace = True)\n",
    "df['StartupName'].replace(\"Oyorooms\", \"Oyo\", inplace = True)\n",
    "df['StartupName'].replace(\"OYO Rooms\", \"Oyo\", inplace = True)\n",
    "df['StartupName'].replace(\"Olacabs\", \"Ola\", inplace = True)\n",
    "df['StartupName'].replace(\"Flipkart.com\", \"Flipkart\", inplace = True)\n",
    "df['StartupName'].replace(\"Oyo Rooms\", \"Oyo\", inplace = True)\n",
    "df['StartupName'].replace(\"Paytm Marketplace\", \"Paytm\", inplace = True)\n",
    "\n",
    "\n",
    "d={}\n",
    "for i,k,l in zip(df.InvestorsName,df.StartupName,df.InvestmentType): \n",
    "    \n",
    "    if l=='Crowd Funding' or l=='Seed Funding':\n",
    "        if ',' in i and i!='':\n",
    "            i=i.strip().split(',')\n",
    "            for  j in i:\n",
    "                if j!=\"\":\n",
    "                    j=j.strip()\n",
    "    #                 print(j+\":\"+k)\n",
    "                    if j in d:d[j].append(k)\n",
    "                    else:d[j]=[k]\n",
    "\n",
    "        else:\n",
    "            if i!='':\n",
    "                i=i.strip()\n",
    "    #             print(i+\":\"+k)\n",
    "                if i in d:d[i].append(k)\n",
    "                else:d[i]=[k]\n",
    "                    \n",
    "for i,j in d.items():               \n",
    "    d[i]=len(set(j))\n",
    "\n",
    "investors={i:j for i,j in sorted(d.items(),reverse=True,key=lambda x:x[1])}\n",
    "\n",
    "c=0\n",
    "x=[]\n",
    "y=[]\n",
    "for i,j in investors.items():\n",
    "    print(f\" {i} : {j}\")\n",
    "    x.append(i);y.append(j)\n",
    "    c+=1\n",
    "    if c==5:break\n",
    "        \n",
    "plt.pie(y,labels=x,autopct='%.2f%%')\n",
    "plt.title('Investors vs No of times')\n",
    "plt.show()\n",
    "\n",
    "\n"
   ]
  },
  {
   "cell_type": "markdown",
   "metadata": {},
   "source": [
    "### 5\n",
    "Due to your immense help, your friend startup successfully got seed funding and it is on the operational mode. Now your friend wants to expand his startup and he is looking for new investors for his startup. Now you again come as a saviour to help your friend and want to create a list of probable new new investors. Before moving forward you remember your investor friend advice that finding the investors by analysing the investment type. Since your friend startup is not in early phase it is in growth stage so the best-suited investment type is Private Equity. Find the top 5 investors who have invested in a different number of startups and their investment type is Private Equity. Correct spelling of investment types are - \"Private Equity\", \"Seed Funding\", \"Debt Funding\", and \"Crowd Funding\". Keep an eye for any spelling mistake. You can find this by printing unique values from this column.There are many errors in startup names. Ignore correcting all, just handle the important ones - Ola, Flipkart, Oyo and Paytm.\n"
   ]
  },
  {
   "cell_type": "code",
   "execution_count": 64,
   "metadata": {},
   "outputs": [
    {
     "name": "stdout",
     "output_type": "stream",
     "text": [
      " Sequoia Capital : 45\n",
      " Accel Partners : 43\n",
      " Kalaari Capital : 35\n",
      " Blume Ventures : 27\n",
      " SAIF Partners : 24\n"
     ]
    },
    {
     "data": {
      "image/png": "[encoded data removed]",
      "text/plain": [
       "<Figure size 432x288 with 1 Axes>"
      ]
     },
     "metadata": {
      "needs_background": "light"
     },
     "output_type": "display_data"
    }
   ],
   "source": [
    "# Q5\n",
    "\n",
    "\n",
    "df=data.copy()\n",
    "\n",
    "df=df[df.InvestmentType.isna()==False]    \n",
    "df['InvestmentType'].replace(\"PrivateEquity\",\"Private Equity\",inplace=True)\n",
    "\n",
    "investor_name=df.InvestorsName\n",
    "df=df[(investor_name.isna()==False) & (investor_name!='Undisclosed investors') & (investor_name!='Undisclosed investor') & (investor_name!='Undisclosed Investors') & (investor_name!='Undisclosed Investor') & (investor_name!='undisclosed investors')]\n",
    "\n",
    "df['StartupName'].replace(\"Ola Cabs\", \"Ola\", inplace = True)\n",
    "df['StartupName'].replace(\"OyoRooms\", \"Oyo\", inplace = True)\n",
    "df['StartupName'].replace(\"Oyorooms\", \"Oyo\", inplace = True)\n",
    "df['StartupName'].replace(\"OYO Rooms\", \"Oyo\", inplace = True)\n",
    "df['StartupName'].replace(\"Olacabs\", \"Ola\", inplace = True)\n",
    "df['StartupName'].replace(\"Flipkart.com\", \"Flipkart\", inplace = True)\n",
    "df['StartupName'].replace(\"Oyo Rooms\", \"Oyo\", inplace = True)\n",
    "df['StartupName'].replace(\"Paytm Marketplace\", \"Paytm\", inplace = True)\n",
    "\n",
    "\n",
    "d={}\n",
    "for i,k,l in zip(df.InvestorsName,df.StartupName,df.InvestmentType): \n",
    "    \n",
    "    if l=='Private Equity':\n",
    "        if ',' in i and i!='':\n",
    "            i=i.strip().split(',')\n",
    "            for  j in i:\n",
    "                if j!=\"\":\n",
    "                    j=j.strip()\n",
    "                    if j in d:d[j].append(k)\n",
    "                    else:d[j]=[k]\n",
    "\n",
    "        else:\n",
    "            if i!='':\n",
    "                i=i.strip()\n",
    "                if i in d:d[i].append(k)\n",
    "                else:d[i]=[k]\n",
    "                    \n",
    "for i,j in d.items():               \n",
    "    d[i]=len(set(j))\n",
    "\n",
    "investors={i:j for i,j in sorted(d.items(),reverse=True,key=lambda x:x[1])}\n",
    "\n",
    "c=0\n",
    "x=[]\n",
    "y=[]\n",
    "for i,j in investors.items():\n",
    "    print(f\" {i} : {j}\")\n",
    "    x.append(i);y.append(j)\n",
    "    c+=1\n",
    "    if c==5:break\n",
    "        \n",
    "plt.bar(x,y)\n",
    "plt.xticks(rotation=40)\n",
    "plt.xlabel(\"Investors\")\n",
    "plt.ylabel('No of times')\n",
    "plt.title('Investors vs No of times')\n",
    "plt.show()\n",
    "\n",
    "\n",
    "\n"
   ]
  },
  {
   "cell_type": "code",
   "execution_count": null,
   "metadata": {},
   "outputs": [],
   "source": []
  },
  {
   "cell_type": "code",
   "execution_count": null,
   "metadata": {},
   "outputs": [],
   "source": []
  },
  {
   "cell_type": "code",
   "execution_count": null,
   "metadata": {},
   "outputs": [],
   "source": []
  }
 ],
 "metadata": {
  "kernelspec": {
   "display_name": "Python 3",
   "language": "python",
   "name": "python3"
  },
  "language_info": {
   "codemirror_mode": {
    "name": "ipython",
    "version": 3
   },
   "file_extension": ".py",
   "mimetype": "text/x-python",
   "name": "python",
   "nbconvert_exporter": "python",
   "pygments_lexer": "ipython3",
   "version": "3.7.3"
  }
 },
 "nbformat": 4,
 "nbformat_minor": 4
}
