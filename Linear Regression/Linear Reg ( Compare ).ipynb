{
 "cells": [
  {
   "cell_type": "code",
   "execution_count": 77,
   "id": "5e0438e6",
   "metadata": {},
   "outputs": [],
   "source": [
    "import numpy as np\n",
    "import pandas as pd\n",
    "import matplotlib.pyplot as plt\n",
    "from sklearn.model_selection import train_test_split\n",
    "from sklearn.linear_model import LinearRegression"
   ]
  },
  {
   "cell_type": "code",
   "execution_count": 78,
   "id": "a24fafd9",
   "metadata": {},
   "outputs": [],
   "source": [
    "data=np.loadtxt('data.csv',delimiter=',')"
   ]
  },
  {
   "cell_type": "code",
   "execution_count": 79,
   "id": "dd4ffc64",
   "metadata": {},
   "outputs": [
    {
     "data": {
      "text/plain": [
       "(100, 2)"
      ]
     },
     "execution_count": 79,
     "metadata": {},
     "output_type": "execute_result"
    }
   ],
   "source": [
    "data.shape"
   ]
  },
  {
   "cell_type": "code",
   "execution_count": 80,
   "id": "0763530e",
   "metadata": {},
   "outputs": [],
   "source": [
    "X=data[:,0]\n",
    "y=data[:,1]"
   ]
  },
  {
   "cell_type": "code",
   "execution_count": 81,
   "id": "1e2d0e4f",
   "metadata": {},
   "outputs": [],
   "source": [
    "X_train,X_test,y_train,y_test=train_test_split(X,y,test_size=0.3)"
   ]
  },
  {
   "cell_type": "code",
   "execution_count": 82,
   "id": "47d7ea0b",
   "metadata": {},
   "outputs": [
    {
     "data": {
      "text/plain": [
       "(70,)"
      ]
     },
     "execution_count": 82,
     "metadata": {},
     "output_type": "execute_result"
    }
   ],
   "source": [
    "X_train.shape"
   ]
  },
  {
   "cell_type": "code",
   "execution_count": 85,
   "id": "0b172106",
   "metadata": {},
   "outputs": [],
   "source": [
    "def fit(X_train,y_train):\n",
    "    num=(X_train*y_train).mean()-X_train.mean()*y_train.mean()\n",
    "    den=(X_train**2).mean()-(X_train.mean())**2\n",
    "    m=num/den\n",
    "    c=y_train.mean()-m*X_train.mean()\n",
    "\n",
    "    return m,c\n",
    "\n",
    "def predict(X_test,m,c):\n",
    "    y=m*X_test+c\n",
    "    return y\n",
    "\n",
    "def score(y_truth,y_pred):\n",
    "    num=((y_truth-y_pred)**2).sum()\n",
    "    den=((y_truth-y_truth.mean())**2).sum()\n",
    "    return 1-(num/den)\n",
    "def cost(x,y,m,c):\n",
    "    s=((y-(m*x+c))**2).mean()\n",
    "    return s\n",
    "    "
   ]
  },
  {
   "cell_type": "code",
   "execution_count": 86,
   "id": "f3c93809",
   "metadata": {},
   "outputs": [
    {
     "name": "stdout",
     "output_type": "stream",
     "text": [
      "1.3353839676399657 7.1087805875941115\n",
      "0.27839504099996926\n",
      "1051.334903147824\n"
     ]
    }
   ],
   "source": [
    "m,c=fit(X_train,y_train)\n",
    "print(m,c)\n",
    "y_pred=predict(X_test,m,c)\n",
    "print(score(y_pred,y_test))\n",
    "print(cost(y_pred,y_test,m,c))"
   ]
  },
  {
   "cell_type": "markdown",
   "id": "7938a0e3",
   "metadata": {},
   "source": [
    "### implementing linear regression module"
   ]
  },
  {
   "cell_type": "code",
   "execution_count": 87,
   "id": "ec06b670",
   "metadata": {},
   "outputs": [
    {
     "data": {
      "text/plain": [
       "LinearRegression()"
      ]
     },
     "execution_count": 87,
     "metadata": {},
     "output_type": "execute_result"
    }
   ],
   "source": [
    "lr=LinearRegression()\n",
    "lr.fit(X_train.reshape(-1,1),y_train)"
   ]
  },
  {
   "cell_type": "code",
   "execution_count": 88,
   "id": "655c6650",
   "metadata": {},
   "outputs": [
    {
     "data": {
      "text/plain": [
       "{'fit_intercept': True,\n",
       " 'normalize': False,\n",
       " 'copy_X': True,\n",
       " 'n_jobs': None,\n",
       " 'positive': False,\n",
       " 'n_features_in_': 1,\n",
       " 'coef_': array([1.33538397]),\n",
       " '_residues': 8257.913417916146,\n",
       " 'rank_': 1,\n",
       " 'singular_': array([85.12115992]),\n",
       " 'intercept_': 7.10878058759377}"
      ]
     },
     "execution_count": 88,
     "metadata": {},
     "output_type": "execute_result"
    }
   ],
   "source": [
    "lr.__dict__ # have a look at m and c"
   ]
  },
  {
   "cell_type": "code",
   "execution_count": 89,
   "id": "ac0b7827",
   "metadata": {},
   "outputs": [
    {
     "data": {
      "text/plain": [
       "-4.035857424078797"
      ]
     },
     "execution_count": 89,
     "metadata": {},
     "output_type": "execute_result"
    }
   ],
   "source": [
    "y_pred=lr.predict(X_test.reshape(-1,1))\n",
    "lr.score(y_pred.reshape(-1,1),y_test)"
   ]
  },
  {
   "cell_type": "code",
   "execution_count": null,
   "id": "df4ef6e5",
   "metadata": {},
   "outputs": [],
   "source": []
  }
 ],
 "metadata": {
  "kernelspec": {
   "display_name": "Python 3 (ipykernel)",
   "language": "python",
   "name": "python3"
  },
  "language_info": {
   "codemirror_mode": {
    "name": "ipython",
    "version": 3
   },
   "file_extension": ".py",
   "mimetype": "text/x-python",
   "name": "python",
   "nbconvert_exporter": "python",
   "pygments_lexer": "ipython3",
   "version": "3.9.7"
  }
 },
 "nbformat": 4,
 "nbformat_minor": 5
}
