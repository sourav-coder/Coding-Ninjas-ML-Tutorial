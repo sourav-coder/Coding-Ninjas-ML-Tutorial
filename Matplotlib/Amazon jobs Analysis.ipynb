{
 "cells": [
  {
   "cell_type": "code",
   "execution_count": 1,
   "metadata": {},
   "outputs": [],
   "source": [
    "import pandas as pd\n",
    "import numpy as np\n",
    "import matplotlib.pyplot as plt"
   ]
  },
  {
   "cell_type": "code",
   "execution_count": 2,
   "metadata": {},
   "outputs": [
    {
     "data": {
      "text/html": [
       "<div>\n",
       "<style scoped>\n",
       "    .dataframe tbody tr th:only-of-type {\n",
       "        vertical-align: middle;\n",
       "    }\n",
       "\n",
       "    .dataframe tbody tr th {\n",
       "        vertical-align: top;\n",
       "    }\n",
       "\n",
       "    .dataframe thead th {\n",
       "        text-align: right;\n",
       "    }\n",
       "</style>\n",
       "<table border=\"1\" class=\"dataframe\">\n",
       "  <thead>\n",
       "    <tr style=\"text-align: right;\">\n",
       "      <th></th>\n",
       "      <th>Unnamed: 0</th>\n",
       "      <th>Title</th>\n",
       "      <th>location</th>\n",
       "      <th>Posting_date</th>\n",
       "      <th>DESCRIPTION</th>\n",
       "      <th>BASIC QUALIFICATIONS</th>\n",
       "      <th>PREFERRED QUALIFICATIONS</th>\n",
       "    </tr>\n",
       "  </thead>\n",
       "  <tbody>\n",
       "    <tr>\n",
       "      <th>0</th>\n",
       "      <td>0</td>\n",
       "      <td>Software Development Manager</td>\n",
       "      <td>US, WA, Seattle</td>\n",
       "      <td>March  1, 2018</td>\n",
       "      <td>You are an experienced hands-on manager with a...</td>\n",
       "      <td>· Proven track record of hiring and managing h...</td>\n",
       "      <td>· Experience building extremely high volume an...</td>\n",
       "    </tr>\n",
       "    <tr>\n",
       "      <th>1</th>\n",
       "      <td>1</td>\n",
       "      <td>Software Development Engineer</td>\n",
       "      <td>IN, KA, Bangalore</td>\n",
       "      <td>March  1, 2018</td>\n",
       "      <td>Amazon is driven by being “the world’s most cu...</td>\n",
       "      <td>· Bachelor’s Degree in Computer Science or rel...</td>\n",
       "      <td>· Experience building complex software systems...</td>\n",
       "    </tr>\n",
       "    <tr>\n",
       "      <th>2</th>\n",
       "      <td>2</td>\n",
       "      <td>Software Development Engineer</td>\n",
       "      <td>IN, KA, Bangalore</td>\n",
       "      <td>March  1, 2018</td>\n",
       "      <td>Amazon is driven by being “the world’s most cu...</td>\n",
       "      <td>· Bachelor’s Degree in Computer Science or rel...</td>\n",
       "      <td>· Experience building complex software systems...</td>\n",
       "    </tr>\n",
       "    <tr>\n",
       "      <th>3</th>\n",
       "      <td>3</td>\n",
       "      <td>Software Development Engineer - Amazon Lex</td>\n",
       "      <td>US, WA, Seattle</td>\n",
       "      <td>March  1, 2018</td>\n",
       "      <td>Have you ever wondered what it takes to build ...</td>\n",
       "      <td>· Bachelors Degree in Computer Science or a re...</td>\n",
       "      <td>· Masters or PhD in Computer Science· Experien...</td>\n",
       "    </tr>\n",
       "    <tr>\n",
       "      <th>4</th>\n",
       "      <td>4</td>\n",
       "      <td>Software Development Engineer - Amazon Lex</td>\n",
       "      <td>US, WA, Seattle</td>\n",
       "      <td>March  1, 2018</td>\n",
       "      <td>Have you ever wondered what it takes to build ...</td>\n",
       "      <td>· Bachelors Degree in Computer Science or a re...</td>\n",
       "      <td>· Masters or PhD in Computer Science· Experien...</td>\n",
       "    </tr>\n",
       "  </tbody>\n",
       "</table>\n",
       "</div>"
      ],
      "text/plain": [
       "   Unnamed: 0                                       Title            location  \\\n",
       "0           0                Software Development Manager    US, WA, Seattle    \n",
       "1           1               Software Development Engineer  IN, KA, Bangalore    \n",
       "2           2               Software Development Engineer  IN, KA, Bangalore    \n",
       "3           3  Software Development Engineer - Amazon Lex    US, WA, Seattle    \n",
       "4           4  Software Development Engineer - Amazon Lex    US, WA, Seattle    \n",
       "\n",
       "     Posting_date                                        DESCRIPTION  \\\n",
       "0  March  1, 2018  You are an experienced hands-on manager with a...   \n",
       "1  March  1, 2018  Amazon is driven by being “the world’s most cu...   \n",
       "2  March  1, 2018  Amazon is driven by being “the world’s most cu...   \n",
       "3  March  1, 2018  Have you ever wondered what it takes to build ...   \n",
       "4  March  1, 2018  Have you ever wondered what it takes to build ...   \n",
       "\n",
       "                                BASIC QUALIFICATIONS  \\\n",
       "0  · Proven track record of hiring and managing h...   \n",
       "1  · Bachelor’s Degree in Computer Science or rel...   \n",
       "2  · Bachelor’s Degree in Computer Science or rel...   \n",
       "3  · Bachelors Degree in Computer Science or a re...   \n",
       "4  · Bachelors Degree in Computer Science or a re...   \n",
       "\n",
       "                            PREFERRED QUALIFICATIONS  \n",
       "0  · Experience building extremely high volume an...  \n",
       "1  · Experience building complex software systems...  \n",
       "2  · Experience building complex software systems...  \n",
       "3  · Masters or PhD in Computer Science· Experien...  \n",
       "4  · Masters or PhD in Computer Science· Experien...  "
      ]
     },
     "execution_count": 2,
     "metadata": {},
     "output_type": "execute_result"
    }
   ],
   "source": [
    "data=pd.read_csv('amazon_jobs_dataset.csv')\n",
    "data.head()"
   ]
  },
  {
   "cell_type": "code",
   "execution_count": 3,
   "metadata": {},
   "outputs": [
    {
     "name": "stdout",
     "output_type": "stream",
     "text": [
      "2011 : 2\n",
      "2012 : 7\n",
      "2013 : 3\n",
      "2014 : 5\n",
      "2015 : 29\n",
      "2016 : 123\n",
      "2017 : 1614\n",
      "2018 : 1710\n"
     ]
    },
    {
     "data": {
      "text/plain": [
       "[<matplotlib.lines.Line2D at 0x1c7bdfcb048>]"
      ]
     },
     "execution_count": 3,
     "metadata": {},
     "output_type": "execute_result"
    },
    {
     "data": {
      "image/png": "[encoded data removed]",
      "text/plain": [
       "<Figure size 432x288 with 1 Axes>"
      ]
     },
     "metadata": {
      "needs_background": "light"
     },
     "output_type": "display_data"
    }
   ],
   "source": [
    "# 1\n",
    "\n",
    "df=data.copy()\n",
    "\n",
    "from collections import Counter\n",
    "\n",
    "d={}\n",
    "\n",
    "for i in np.array(df.Posting_date):\n",
    "    t=int(i.split()[2])\n",
    "    if t in d:d[t]+=1\n",
    "    else:d[t]=1\n",
    "\n",
    "\n",
    "for i in sorted(d):\n",
    "    print(f'{i} : {d[i]}')\n",
    "\n",
    "        \n",
    "jobs=list(d.keys())\n",
    "years=list(d.values())\n",
    "plt.plot(jobs,years)\n",
    "\n"
   ]
  },
  {
   "cell_type": "code",
   "execution_count": 4,
   "metadata": {},
   "outputs": [
    {
     "name": "stdout",
     "output_type": "stream",
     "text": [
      "April : 58\n",
      "August : 153\n",
      "December : 393\n",
      "February : 869\n",
      "January : 961\n",
      "July : 95\n",
      "June : 99\n",
      "March : 78\n",
      "May : 108\n",
      "November : 271\n",
      "October : 243\n",
      "September : 165\n"
     ]
    },
    {
     "data": {
      "image/png": "[encoded data removed]",
      "text/plain": [
       "<Figure size 432x288 with 1 Axes>"
      ]
     },
     "metadata": {
      "needs_background": "light"
     },
     "output_type": "display_data"
    }
   ],
   "source": [
    "# 2\n",
    "\n",
    "df=data.copy()\n",
    "d={}\n",
    "\n",
    "for i in np.array(df.Posting_date):\n",
    "    t=i.split()[0]\n",
    "    if t in d:d[t]+=1\n",
    "    else:d[t]=1\n",
    "\n",
    "\n",
    "for i in sorted(d):\n",
    "    print(f'{i} : {d[i]}')\n",
    "\n",
    "        \n",
    "jobs=list(d.keys())\n",
    "years=list(d.values())\n",
    "plt.bar(jobs,years)\n",
    "plt.xticks(rotation=60)\n",
    "plt.show()\n",
    "\n"
   ]
  },
  {
   "cell_type": "markdown",
   "metadata": {},
   "source": [
    "**Maximum no of jobs are in the month of January**"
   ]
  },
  {
   "cell_type": "code",
   "execution_count": 5,
   "metadata": {},
   "outputs": [
    {
     "data": {
      "image/png": "[encoded data removed]",
      "text/plain": [
       "<Figure size 432x288 with 1 Axes>"
      ]
     },
     "metadata": {
      "needs_background": "light"
     },
     "output_type": "display_data"
    }
   ],
   "source": [
    "# 3\n",
    "# line graph\n",
    "\n",
    "x=np.arange(2,21,2)\n",
    "y=2**x\n",
    "\n",
    "plt.plot(x,y,'b.-.')\n",
    "plt.grid()\n",
    "\n",
    "\n"
   ]
  },
  {
   "cell_type": "code",
   "execution_count": 6,
   "metadata": {},
   "outputs": [
    {
     "name": "stdout",
     "output_type": "stream",
     "text": [
      "{' Chennai ': 1, ' Hyderabad ': 1, ' Gurgaon ': 2, ' Bangalore ': 1, ' Pune ': 1}\n"
     ]
    },
    {
     "data": {
      "image/png": "[encoded data removed]",
      "text/plain": [
       "<Figure size 432x288 with 1 Axes>"
      ]
     },
     "metadata": {},
     "output_type": "display_data"
    }
   ],
   "source": [
    "# 4\n",
    "\n",
    "df=data.copy()\n",
    "\n",
    "d={}\n",
    "\n",
    "location=df.location\n",
    "\n",
    "for i in set(location):\n",
    "    i=i.split(',')\n",
    "    if i[0]=='IN':\n",
    "        if i[2] in d:d[i[2]]+=1\n",
    "        else:d[i[2]]=1\n",
    "print(d)\n",
    "\n",
    "plt.pie(list(d.values()),labels=list(d.keys()),autopct='%.2f%%')\n",
    "plt.show()\n"
   ]
  },
  {
   "cell_type": "code",
   "execution_count": 32,
   "metadata": {},
   "outputs": [
    {
     "data": {
      "image/png": "[encoded data removed]",
      "text/plain": [
       "<Figure size 432x288 with 1 Axes>"
      ]
     },
     "metadata": {
      "needs_background": "light"
     },
     "output_type": "display_data"
    }
   ],
   "source": [
    "# 5\n",
    "df=data.copy()\n",
    "\n",
    "year=df['Posting_date']\n",
    "qli=df['BASIC QUALIFICATIONS']\n",
    "\n",
    "d={}\n",
    "df.dropna(inplace=True)\n",
    "df.reset_index(drop=True,inplace=True)\n",
    "df.isna().sum()\n",
    "\n",
    "for i in range(len(qli)):\n",
    "    try:\n",
    "        if (\"Java\" in qli[i]) or (\"java\" in qli[i]):\n",
    "            s=int(year[i].split()[2])\n",
    "            if s in d:\n",
    "                d[s]+=1\n",
    "            else:d[s]=1\n",
    "    except:pass\n",
    "\n",
    "\n",
    "d={i:j for i,j in sorted(d.items())}\n",
    "\n",
    "plt.scatter(list(d.keys()),list(d.values()))\n",
    "plt.show()"
   ]
  },
  {
   "cell_type": "code",
   "execution_count": 45,
   "metadata": {},
   "outputs": [
    {
     "data": {
      "image/png": "[encoded data removed]",
      "text/plain": [
       "<Figure size 432x288 with 1 Axes>"
      ]
     },
     "metadata": {
      "needs_background": "light"
     },
     "output_type": "display_data"
    }
   ],
   "source": [
    "# 5\n",
    "\n",
    "x=np.arange(0,40,2)\n",
    "y=x.copy()\n",
    "\n",
    "plt.plot(x,y,'b.',label='x')\n",
    "plt.plot(x,y,'r-',label='y')\n",
    "\n",
    "\n",
    "plt.legend()\n",
    "plt.show()"
   ]
  },
  {
   "cell_type": "code",
   "execution_count": 46,
   "metadata": {},
   "outputs": [
    {
     "data": {
      "text/plain": [
       "['.ipynb_checkpoints',\n",
       " '1. Plot Job_Year.png',\n",
       " '1. Plotting Graphs-studyfever.mp4',\n",
       " '1. Plotting Graphs.zip',\n",
       " '10. Histogram-studyfever.mp4',\n",
       " '11. Students data.png',\n",
       " '11.1 Students data.png',\n",
       " '12. Bar Graph-studyfever.mp4',\n",
       " '13. How to decide Graph Type-studyfever.mp4',\n",
       " '2. Plot line.png',\n",
       " '2. Plot Month_Job.png',\n",
       " '2.1 Plot line.png',\n",
       " '3. Matplotlib increase.png',\n",
       " '3. Plot city_job.png',\n",
       " '4. Customizing Graph-studyfever.mp4',\n",
       " '4. Customizing Graph.zip',\n",
       " '4. Plot Job_Java.png',\n",
       " '5. Plot Graphs.png',\n",
       " '6. Bubble Chart-studyfever.mp4',\n",
       " '7. Microsoft Bubble Graph.png',\n",
       " '7.1 Microsoft Bubble Graph.png',\n",
       " '8. Pie Chart-studyfever.mp4',\n",
       " '8. Pie Chart.zip',\n",
       " '9. Laptop Sales.png',\n",
       " '9.1 Laptop Sales.png',\n",
       " 'Amazon jobs Analysis.ipynb',\n",
       " 'amazon_jobs_dataset.csv',\n",
       " 'Matplotlib Tutorial.ipynb']"
      ]
     },
     "execution_count": 46,
     "metadata": {},
     "output_type": "execute_result"
    }
   ],
   "source": [
    "\n"
   ]
  },
  {
   "cell_type": "code",
   "execution_count": null,
   "metadata": {},
   "outputs": [],
   "source": []
  },
  {
   "cell_type": "code",
   "execution_count": null,
   "metadata": {},
   "outputs": [],
   "source": []
  }
 ],
 "metadata": {
  "kernelspec": {
   "display_name": "Python 3",
   "language": "python",
   "name": "python3"
  },
  "language_info": {
   "codemirror_mode": {
    "name": "ipython",
    "version": 3
   },
   "file_extension": ".py",
   "mimetype": "text/x-python",
   "name": "python",
   "nbconvert_exporter": "python",
   "pygments_lexer": "ipython3",
   "version": "3.7.3"
  }
 },
 "nbformat": 4,
 "nbformat_minor": 4
}
